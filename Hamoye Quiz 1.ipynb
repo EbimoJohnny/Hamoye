{
 "cells": [
  {
   "cell_type": "code",
   "execution_count": 1,
   "id": "4f657426",
   "metadata": {},
   "outputs": [],
   "source": [
    "import pandas as pd\n",
    "import numpy as np\n",
    "from scipy import stats "
   ]
  },
  {
   "cell_type": "code",
   "execution_count": 2,
   "id": "518c112c",
   "metadata": {},
   "outputs": [],
   "source": [
    "df=pd.read_csv('https://github.com/HamoyeHQ/HDSC-Introduction-to-Python-for-machine-learning/files/7768140/FoodBalanceSheets_E_Africa_NOFLAG.csv' ,delimiter=',', encoding=\"latin-1\")"
   ]
  },
  {
   "cell_type": "code",
   "execution_count": 3,
   "id": "17092cc0",
   "metadata": {
    "scrolled": true
   },
   "outputs": [
    {
     "data": {
      "text/html": [
       "<div>\n",
       "<style scoped>\n",
       "    .dataframe tbody tr th:only-of-type {\n",
       "        vertical-align: middle;\n",
       "    }\n",
       "\n",
       "    .dataframe tbody tr th {\n",
       "        vertical-align: top;\n",
       "    }\n",
       "\n",
       "    .dataframe thead th {\n",
       "        text-align: right;\n",
       "    }\n",
       "</style>\n",
       "<table border=\"1\" class=\"dataframe\">\n",
       "  <thead>\n",
       "    <tr style=\"text-align: right;\">\n",
       "      <th></th>\n",
       "      <th>Area Code</th>\n",
       "      <th>Area</th>\n",
       "      <th>Item Code</th>\n",
       "      <th>Item</th>\n",
       "      <th>Element Code</th>\n",
       "      <th>Element</th>\n",
       "      <th>Unit</th>\n",
       "      <th>Y2014</th>\n",
       "      <th>Y2015</th>\n",
       "      <th>Y2016</th>\n",
       "      <th>Y2017</th>\n",
       "      <th>Y2018</th>\n",
       "    </tr>\n",
       "  </thead>\n",
       "  <tbody>\n",
       "    <tr>\n",
       "      <th>0</th>\n",
       "      <td>4</td>\n",
       "      <td>Algeria</td>\n",
       "      <td>2501</td>\n",
       "      <td>Population</td>\n",
       "      <td>511</td>\n",
       "      <td>Total Population - Both sexes</td>\n",
       "      <td>1000 persons</td>\n",
       "      <td>38924.00</td>\n",
       "      <td>39728.00</td>\n",
       "      <td>40551.00</td>\n",
       "      <td>41389.00</td>\n",
       "      <td>42228.00</td>\n",
       "    </tr>\n",
       "    <tr>\n",
       "      <th>1</th>\n",
       "      <td>4</td>\n",
       "      <td>Algeria</td>\n",
       "      <td>2501</td>\n",
       "      <td>Population</td>\n",
       "      <td>5301</td>\n",
       "      <td>Domestic supply quantity</td>\n",
       "      <td>1000 tonnes</td>\n",
       "      <td>0.00</td>\n",
       "      <td>0.00</td>\n",
       "      <td>0.00</td>\n",
       "      <td>0.00</td>\n",
       "      <td>0.00</td>\n",
       "    </tr>\n",
       "    <tr>\n",
       "      <th>2</th>\n",
       "      <td>4</td>\n",
       "      <td>Algeria</td>\n",
       "      <td>2901</td>\n",
       "      <td>Grand Total</td>\n",
       "      <td>664</td>\n",
       "      <td>Food supply (kcal/capita/day)</td>\n",
       "      <td>kcal/capita/day</td>\n",
       "      <td>3377.00</td>\n",
       "      <td>3379.00</td>\n",
       "      <td>3372.00</td>\n",
       "      <td>3341.00</td>\n",
       "      <td>3322.00</td>\n",
       "    </tr>\n",
       "    <tr>\n",
       "      <th>3</th>\n",
       "      <td>4</td>\n",
       "      <td>Algeria</td>\n",
       "      <td>2901</td>\n",
       "      <td>Grand Total</td>\n",
       "      <td>674</td>\n",
       "      <td>Protein supply quantity (g/capita/day)</td>\n",
       "      <td>g/capita/day</td>\n",
       "      <td>94.90</td>\n",
       "      <td>94.35</td>\n",
       "      <td>94.72</td>\n",
       "      <td>92.82</td>\n",
       "      <td>91.83</td>\n",
       "    </tr>\n",
       "    <tr>\n",
       "      <th>4</th>\n",
       "      <td>4</td>\n",
       "      <td>Algeria</td>\n",
       "      <td>2901</td>\n",
       "      <td>Grand Total</td>\n",
       "      <td>684</td>\n",
       "      <td>Fat supply quantity (g/capita/day)</td>\n",
       "      <td>g/capita/day</td>\n",
       "      <td>80.06</td>\n",
       "      <td>79.36</td>\n",
       "      <td>77.40</td>\n",
       "      <td>80.19</td>\n",
       "      <td>77.28</td>\n",
       "    </tr>\n",
       "  </tbody>\n",
       "</table>\n",
       "</div>"
      ],
      "text/plain": [
       "   Area Code     Area  Item Code         Item  Element Code  \\\n",
       "0          4  Algeria       2501   Population           511   \n",
       "1          4  Algeria       2501   Population          5301   \n",
       "2          4  Algeria       2901  Grand Total           664   \n",
       "3          4  Algeria       2901  Grand Total           674   \n",
       "4          4  Algeria       2901  Grand Total           684   \n",
       "\n",
       "                                  Element             Unit     Y2014  \\\n",
       "0           Total Population - Both sexes     1000 persons  38924.00   \n",
       "1                Domestic supply quantity      1000 tonnes      0.00   \n",
       "2           Food supply (kcal/capita/day)  kcal/capita/day   3377.00   \n",
       "3  Protein supply quantity (g/capita/day)     g/capita/day     94.90   \n",
       "4      Fat supply quantity (g/capita/day)     g/capita/day     80.06   \n",
       "\n",
       "      Y2015     Y2016     Y2017     Y2018  \n",
       "0  39728.00  40551.00  41389.00  42228.00  \n",
       "1      0.00      0.00      0.00      0.00  \n",
       "2   3379.00   3372.00   3341.00   3322.00  \n",
       "3     94.35     94.72     92.82     91.83  \n",
       "4     79.36     77.40     80.19     77.28  "
      ]
     },
     "execution_count": 3,
     "metadata": {},
     "output_type": "execute_result"
    }
   ],
   "source": [
    "df.head()"
   ]
  },
  {
   "cell_type": "code",
   "execution_count": 4,
   "id": "c192e312",
   "metadata": {},
   "outputs": [
    {
     "data": {
      "text/plain": [
       "(60943, 12)"
      ]
     },
     "execution_count": 4,
     "metadata": {},
     "output_type": "execute_result"
    }
   ],
   "source": [
    "df.shape"
   ]
  },
  {
   "cell_type": "markdown",
   "id": "0e1c6243",
   "metadata": {},
   "source": [
    "**Q11 What is the total sum of Animal Fat produced in 2014 and 2017 respectively?**"
   ]
  },
  {
   "cell_type": "code",
   "execution_count": 5,
   "id": "cb40bb8b",
   "metadata": {
    "scrolled": false
   },
   "outputs": [
    {
     "data": {
      "text/html": [
       "<div>\n",
       "<style scoped>\n",
       "    .dataframe tbody tr th:only-of-type {\n",
       "        vertical-align: middle;\n",
       "    }\n",
       "\n",
       "    .dataframe tbody tr th {\n",
       "        vertical-align: top;\n",
       "    }\n",
       "\n",
       "    .dataframe thead th {\n",
       "        text-align: right;\n",
       "    }\n",
       "</style>\n",
       "<table border=\"1\" class=\"dataframe\">\n",
       "  <thead>\n",
       "    <tr style=\"text-align: right;\">\n",
       "      <th></th>\n",
       "      <th>Y2014</th>\n",
       "      <th>Y2017</th>\n",
       "    </tr>\n",
       "    <tr>\n",
       "      <th>Item</th>\n",
       "      <th></th>\n",
       "      <th></th>\n",
       "    </tr>\n",
       "  </thead>\n",
       "  <tbody>\n",
       "    <tr>\n",
       "      <th>Alcohol, Non-Food</th>\n",
       "      <td>2403.00</td>\n",
       "      <td>2348.00</td>\n",
       "    </tr>\n",
       "    <tr>\n",
       "      <th>Alcoholic Beverages</th>\n",
       "      <td>102410.11</td>\n",
       "      <td>95581.06</td>\n",
       "    </tr>\n",
       "    <tr>\n",
       "      <th>Animal Products</th>\n",
       "      <td>11935.65</td>\n",
       "      <td>11547.65</td>\n",
       "    </tr>\n",
       "    <tr>\n",
       "      <th>Animal fats</th>\n",
       "      <td>209460.54</td>\n",
       "      <td>269617.53</td>\n",
       "    </tr>\n",
       "    <tr>\n",
       "      <th>Apples and products</th>\n",
       "      <td>9499.23</td>\n",
       "      <td>10198.90</td>\n",
       "    </tr>\n",
       "    <tr>\n",
       "      <th>...</th>\n",
       "      <td>...</td>\n",
       "      <td>...</td>\n",
       "    </tr>\n",
       "    <tr>\n",
       "      <th>Vegetables, Other</th>\n",
       "      <td>155038.96</td>\n",
       "      <td>157752.59</td>\n",
       "    </tr>\n",
       "    <tr>\n",
       "      <th>Vegetal Products</th>\n",
       "      <td>107145.19</td>\n",
       "      <td>107655.20</td>\n",
       "    </tr>\n",
       "    <tr>\n",
       "      <th>Wheat and products</th>\n",
       "      <td>232670.13</td>\n",
       "      <td>240047.62</td>\n",
       "    </tr>\n",
       "    <tr>\n",
       "      <th>Wine</th>\n",
       "      <td>4497.36</td>\n",
       "      <td>4178.02</td>\n",
       "    </tr>\n",
       "    <tr>\n",
       "      <th>Yams</th>\n",
       "      <td>200396.96</td>\n",
       "      <td>229174.59</td>\n",
       "    </tr>\n",
       "  </tbody>\n",
       "</table>\n",
       "<p>119 rows × 2 columns</p>\n",
       "</div>"
      ],
      "text/plain": [
       "                         Y2014      Y2017\n",
       "Item                                     \n",
       "Alcohol, Non-Food      2403.00    2348.00\n",
       "Alcoholic Beverages  102410.11   95581.06\n",
       "Animal Products       11935.65   11547.65\n",
       "Animal fats          209460.54  269617.53\n",
       "Apples and products    9499.23   10198.90\n",
       "...                        ...        ...\n",
       "Vegetables, Other    155038.96  157752.59\n",
       "Vegetal Products     107145.19  107655.20\n",
       "Wheat and products   232670.13  240047.62\n",
       "Wine                   4497.36    4178.02\n",
       "Yams                 200396.96  229174.59\n",
       "\n",
       "[119 rows x 2 columns]"
      ]
     },
     "execution_count": 5,
     "metadata": {},
     "output_type": "execute_result"
    }
   ],
   "source": [
    "df.groupby(['Item'])[['Y2014','Y2017']].sum('Animal fats')"
   ]
  },
  {
   "cell_type": "markdown",
   "id": "7562f4ef",
   "metadata": {},
   "source": [
    "**Hence the total sum of Animal Fat in Y2014 and Y2017 are 20.9460.54 and 269617.53 respectively**"
   ]
  },
  {
   "cell_type": "markdown",
   "id": "8078a57f",
   "metadata": {},
   "source": [
    "**Q12 What is the mean and standard deviation across the whole dataset for the year 2015 to 3 decimal places?**"
   ]
  },
  {
   "cell_type": "code",
   "execution_count": 6,
   "id": "74e11ca1",
   "metadata": {
    "scrolled": true
   },
   "outputs": [
    {
     "data": {
      "text/plain": [
       "mean     135.236\n",
       "std     1603.404\n",
       "Name: Y2015, dtype: float64"
      ]
     },
     "execution_count": 6,
     "metadata": {},
     "output_type": "execute_result"
    }
   ],
   "source": [
    "df['Y2015'].agg({'mean','std'}).round(3)"
   ]
  },
  {
   "cell_type": "markdown",
   "id": "d7fdbadc",
   "metadata": {},
   "source": [
    "**The mean and standard deviation of the year 2015 are '135.236' and '1603.404' respectively**"
   ]
  },
  {
   "cell_type": "markdown",
   "id": "b2d40492",
   "metadata": {},
   "source": [
    "**Q13 What is the total number and percentage of missing data in 2016 to 2 decimal places?**"
   ]
  },
  {
   "cell_type": "code",
   "execution_count": 7,
   "id": "cef11ded",
   "metadata": {},
   "outputs": [],
   "source": [
    "missing_data_2016=df['Y2016'].isna().sum()\n",
    "percent_missing_data_2016=missing_data_2016*100/len(df)"
   ]
  },
  {
   "cell_type": "code",
   "execution_count": 8,
   "id": "f23de79d",
   "metadata": {},
   "outputs": [
    {
     "name": "stdout",
     "output_type": "stream",
     "text": [
      "The total number of missing data in 2016 is 1535\n",
      "The total percentage of missing data in 2016 is 2.52\n"
     ]
    }
   ],
   "source": [
    "print(\"The total number of missing data in 2016 is \"+ str(missing_data_2016))\n",
    "print(\"The total percentage of missing data in 2016 is \"+ str(percent_missing_data_2016.round(2)))"
   ]
  },
  {
   "cell_type": "markdown",
   "id": "7d239821",
   "metadata": {},
   "source": [
    "**The Total number of missing data in 2016 is 1535**\n",
    "\n",
    "\n",
    "**The Total percentage of missing data in 2016 is 2.52**"
   ]
  },
  {
   "cell_type": "markdown",
   "id": "569cf7e3",
   "metadata": {},
   "source": [
    "**Q14 Which year had the highest correlation with ‘Element Code’?**"
   ]
  },
  {
   "cell_type": "code",
   "execution_count": 9,
   "id": "28f00780",
   "metadata": {
    "scrolled": true
   },
   "outputs": [
    {
     "name": "stdout",
     "output_type": "stream",
     "text": [
      "'Y2014' is 0.024456819495221733\n",
      "'Y2015' is 0.02388919930163992\n",
      "'Y2016' is 0.023443997584961344\n",
      "'Y2017' is 0.02425400776004579\n",
      "'Y2018' is 0.024278571953519505\n"
     ]
    }
   ],
   "source": [
    "cor1=df['Element Code'].corr(df['Y2014'])\n",
    "print(\"'Y2014' is \"+ str(cor1))\n",
    "cor2=df['Element Code'].corr(df['Y2015'])\n",
    "print(\"'Y2015' is \"+ str(cor2))\n",
    "cor3=df['Element Code'].corr(df['Y2016'])\n",
    "print(\"'Y2016' is \"+ str(cor3))\n",
    "cor4=df['Element Code'].corr(df['Y2017'])\n",
    "print(\"'Y2017' is \"+ str(cor4))\n",
    "cor5=df['Element Code'].corr(df['Y2018'])\n",
    "print(\"'Y2018' is \"+ str(cor5))\n",
    "\n",
    " "
   ]
  },
  {
   "cell_type": "code",
   "execution_count": 10,
   "id": "7821b0d8",
   "metadata": {},
   "outputs": [
    {
     "name": "stdout",
     "output_type": "stream",
     "text": [
      "The highest correation value is 0.0245\n",
      "Therefore the year with the highest correlation is Y2014 with value of 0.0245\n"
     ]
    }
   ],
   "source": [
    "print(\"The highest correation value is \"+ str(max(cor1,cor2,cor3,cor4,cor5).round(4)))\n",
    "print(\"Therefore the year with the highest correlation is Y2014 with value of \"+ str(cor1.round(4) ))"
   ]
  },
  {
   "cell_type": "markdown",
   "id": "9468363e",
   "metadata": {},
   "source": [
    "**The Year with the highest correlation is 'Y2014'**"
   ]
  },
  {
   "cell_type": "markdown",
   "id": "965d0eeb",
   "metadata": {},
   "source": [
    "**Q15 What year has the highest sum of Import Quantity?**"
   ]
  },
  {
   "cell_type": "code",
   "execution_count": 11,
   "id": "5ba84014",
   "metadata": {
    "scrolled": false
   },
   "outputs": [
    {
     "data": {
      "text/html": [
       "<div>\n",
       "<style scoped>\n",
       "    .dataframe tbody tr th:only-of-type {\n",
       "        vertical-align: middle;\n",
       "    }\n",
       "\n",
       "    .dataframe tbody tr th {\n",
       "        vertical-align: top;\n",
       "    }\n",
       "\n",
       "    .dataframe thead th {\n",
       "        text-align: right;\n",
       "    }\n",
       "</style>\n",
       "<table border=\"1\" class=\"dataframe\">\n",
       "  <thead>\n",
       "    <tr style=\"text-align: right;\">\n",
       "      <th></th>\n",
       "      <th>Y2014</th>\n",
       "      <th>Y2017</th>\n",
       "      <th>Y2016</th>\n",
       "      <th>Y2015</th>\n",
       "      <th>Y2018</th>\n",
       "    </tr>\n",
       "    <tr>\n",
       "      <th>Element</th>\n",
       "      <th></th>\n",
       "      <th></th>\n",
       "      <th></th>\n",
       "      <th></th>\n",
       "      <th></th>\n",
       "    </tr>\n",
       "  </thead>\n",
       "  <tbody>\n",
       "    <tr>\n",
       "      <th>Domestic supply quantity</th>\n",
       "      <td>1996716.35</td>\n",
       "      <td>2088198.10</td>\n",
       "      <td>2044842.70</td>\n",
       "      <td>2021493.55</td>\n",
       "      <td>2161192.10</td>\n",
       "    </tr>\n",
       "    <tr>\n",
       "      <th>Export Quantity</th>\n",
       "      <td>150020.64</td>\n",
       "      <td>182338.80</td>\n",
       "      <td>151920.46</td>\n",
       "      <td>157614.47</td>\n",
       "      <td>181594.80</td>\n",
       "    </tr>\n",
       "    <tr>\n",
       "      <th>Fat supply quantity (g/capita/day)</th>\n",
       "      <td>10225.56</td>\n",
       "      <td>10253.84</td>\n",
       "      <td>10102.77</td>\n",
       "      <td>10235.74</td>\n",
       "      <td>10258.69</td>\n",
       "    </tr>\n",
       "    <tr>\n",
       "      <th>Feed</th>\n",
       "      <td>216927.89</td>\n",
       "      <td>223705.68</td>\n",
       "      <td>228958.65</td>\n",
       "      <td>225050.22</td>\n",
       "      <td>233489.68</td>\n",
       "    </tr>\n",
       "    <tr>\n",
       "      <th>Food</th>\n",
       "      <td>1212332.49</td>\n",
       "      <td>1258888.28</td>\n",
       "      <td>1247022.17</td>\n",
       "      <td>1232361.10</td>\n",
       "      <td>1303841.28</td>\n",
       "    </tr>\n",
       "    <tr>\n",
       "      <th>Food supply (kcal/capita/day)</th>\n",
       "      <td>454257.00</td>\n",
       "      <td>454681.00</td>\n",
       "      <td>451810.00</td>\n",
       "      <td>453383.00</td>\n",
       "      <td>455261.00</td>\n",
       "    </tr>\n",
       "    <tr>\n",
       "      <th>Food supply quantity (kg/capita/yr)</th>\n",
       "      <td>49650.63</td>\n",
       "      <td>48690.04</td>\n",
       "      <td>48985.28</td>\n",
       "      <td>49345.13</td>\n",
       "      <td>49056.85</td>\n",
       "    </tr>\n",
       "    <tr>\n",
       "      <th>Import Quantity</th>\n",
       "      <td>274144.48</td>\n",
       "      <td>294559.09</td>\n",
       "      <td>286582.78</td>\n",
       "      <td>267018.46</td>\n",
       "      <td>287997.09</td>\n",
       "    </tr>\n",
       "    <tr>\n",
       "      <th>Losses</th>\n",
       "      <td>153223.00</td>\n",
       "      <td>160614.00</td>\n",
       "      <td>157787.00</td>\n",
       "      <td>155439.00</td>\n",
       "      <td>163902.00</td>\n",
       "    </tr>\n",
       "    <tr>\n",
       "      <th>Other uses (non-food)</th>\n",
       "      <td>78718.13</td>\n",
       "      <td>91645.97</td>\n",
       "      <td>69563.68</td>\n",
       "      <td>66254.41</td>\n",
       "      <td>91300.97</td>\n",
       "    </tr>\n",
       "    <tr>\n",
       "      <th>Processing</th>\n",
       "      <td>282923.00</td>\n",
       "      <td>292836.00</td>\n",
       "      <td>280631.00</td>\n",
       "      <td>287929.00</td>\n",
       "      <td>308429.00</td>\n",
       "    </tr>\n",
       "    <tr>\n",
       "      <th>Production</th>\n",
       "      <td>1931287.75</td>\n",
       "      <td>2030056.89</td>\n",
       "      <td>1943537.15</td>\n",
       "      <td>1947019.39</td>\n",
       "      <td>2075072.89</td>\n",
       "    </tr>\n",
       "    <tr>\n",
       "      <th>Protein supply quantity (g/capita/day)</th>\n",
       "      <td>11836.46</td>\n",
       "      <td>11842.45</td>\n",
       "      <td>11779.69</td>\n",
       "      <td>11833.95</td>\n",
       "      <td>11833.56</td>\n",
       "    </tr>\n",
       "    <tr>\n",
       "      <th>Residuals</th>\n",
       "      <td>30149.00</td>\n",
       "      <td>35500.00</td>\n",
       "      <td>37224.00</td>\n",
       "      <td>30045.00</td>\n",
       "      <td>34864.00</td>\n",
       "    </tr>\n",
       "    <tr>\n",
       "      <th>Seed</th>\n",
       "      <td>21922.92</td>\n",
       "      <td>24870.14</td>\n",
       "      <td>23389.20</td>\n",
       "      <td>23976.82</td>\n",
       "      <td>25263.14</td>\n",
       "    </tr>\n",
       "    <tr>\n",
       "      <th>Stock Variation</th>\n",
       "      <td>58749.83</td>\n",
       "      <td>54316.91</td>\n",
       "      <td>33140.12</td>\n",
       "      <td>34910.99</td>\n",
       "      <td>20577.91</td>\n",
       "    </tr>\n",
       "    <tr>\n",
       "      <th>Total Population - Both sexes</th>\n",
       "      <td>1031585.00</td>\n",
       "      <td>1112641.00</td>\n",
       "      <td>1085107.00</td>\n",
       "      <td>1058081.00</td>\n",
       "      <td>1140605.00</td>\n",
       "    </tr>\n",
       "    <tr>\n",
       "      <th>Tourist consumption</th>\n",
       "      <td>416.00</td>\n",
       "      <td>91.00</td>\n",
       "      <td>89.00</td>\n",
       "      <td>349.00</td>\n",
       "      <td>90.00</td>\n",
       "    </tr>\n",
       "  </tbody>\n",
       "</table>\n",
       "</div>"
      ],
      "text/plain": [
       "                                             Y2014       Y2017       Y2016  \\\n",
       "Element                                                                      \n",
       "Domestic supply quantity                1996716.35  2088198.10  2044842.70   \n",
       "Export Quantity                          150020.64   182338.80   151920.46   \n",
       "Fat supply quantity (g/capita/day)        10225.56    10253.84    10102.77   \n",
       "Feed                                     216927.89   223705.68   228958.65   \n",
       "Food                                    1212332.49  1258888.28  1247022.17   \n",
       "Food supply (kcal/capita/day)            454257.00   454681.00   451810.00   \n",
       "Food supply quantity (kg/capita/yr)       49650.63    48690.04    48985.28   \n",
       "Import Quantity                          274144.48   294559.09   286582.78   \n",
       "Losses                                   153223.00   160614.00   157787.00   \n",
       "Other uses (non-food)                     78718.13    91645.97    69563.68   \n",
       "Processing                               282923.00   292836.00   280631.00   \n",
       "Production                              1931287.75  2030056.89  1943537.15   \n",
       "Protein supply quantity (g/capita/day)    11836.46    11842.45    11779.69   \n",
       "Residuals                                 30149.00    35500.00    37224.00   \n",
       "Seed                                      21922.92    24870.14    23389.20   \n",
       "Stock Variation                           58749.83    54316.91    33140.12   \n",
       "Total Population - Both sexes           1031585.00  1112641.00  1085107.00   \n",
       "Tourist consumption                         416.00       91.00       89.00   \n",
       "\n",
       "                                             Y2015       Y2018  \n",
       "Element                                                         \n",
       "Domestic supply quantity                2021493.55  2161192.10  \n",
       "Export Quantity                          157614.47   181594.80  \n",
       "Fat supply quantity (g/capita/day)        10235.74    10258.69  \n",
       "Feed                                     225050.22   233489.68  \n",
       "Food                                    1232361.10  1303841.28  \n",
       "Food supply (kcal/capita/day)            453383.00   455261.00  \n",
       "Food supply quantity (kg/capita/yr)       49345.13    49056.85  \n",
       "Import Quantity                          267018.46   287997.09  \n",
       "Losses                                   155439.00   163902.00  \n",
       "Other uses (non-food)                     66254.41    91300.97  \n",
       "Processing                               287929.00   308429.00  \n",
       "Production                              1947019.39  2075072.89  \n",
       "Protein supply quantity (g/capita/day)    11833.95    11833.56  \n",
       "Residuals                                 30045.00    34864.00  \n",
       "Seed                                      23976.82    25263.14  \n",
       "Stock Variation                           34910.99    20577.91  \n",
       "Total Population - Both sexes           1058081.00  1140605.00  \n",
       "Tourist consumption                         349.00       90.00  "
      ]
     },
     "execution_count": 11,
     "metadata": {},
     "output_type": "execute_result"
    }
   ],
   "source": [
    "df.groupby('Element')[['Y2014','Y2017','Y2016','Y2015','Y2018']].sum('Import Quantity')"
   ]
  },
  {
   "cell_type": "markdown",
   "id": "a2a6582e",
   "metadata": {},
   "source": [
    "**The Year '2017' has the highest import quantity of about 294559.09**"
   ]
  },
  {
   "cell_type": "markdown",
   "id": "e9bcf01c",
   "metadata": {},
   "source": [
    "**Q16 What is the total number of the sum of Production in 2014?**"
   ]
  },
  {
   "cell_type": "code",
   "execution_count": 12,
   "id": "6fbe3212",
   "metadata": {
    "scrolled": false
   },
   "outputs": [
    {
     "data": {
      "text/html": [
       "<div>\n",
       "<style scoped>\n",
       "    .dataframe tbody tr th:only-of-type {\n",
       "        vertical-align: middle;\n",
       "    }\n",
       "\n",
       "    .dataframe tbody tr th {\n",
       "        vertical-align: top;\n",
       "    }\n",
       "\n",
       "    .dataframe thead th {\n",
       "        text-align: right;\n",
       "    }\n",
       "</style>\n",
       "<table border=\"1\" class=\"dataframe\">\n",
       "  <thead>\n",
       "    <tr style=\"text-align: right;\">\n",
       "      <th></th>\n",
       "      <th>Y2014</th>\n",
       "    </tr>\n",
       "    <tr>\n",
       "      <th>Element</th>\n",
       "      <th></th>\n",
       "    </tr>\n",
       "  </thead>\n",
       "  <tbody>\n",
       "    <tr>\n",
       "      <th>Domestic supply quantity</th>\n",
       "      <td>1996716.35</td>\n",
       "    </tr>\n",
       "    <tr>\n",
       "      <th>Export Quantity</th>\n",
       "      <td>150020.64</td>\n",
       "    </tr>\n",
       "    <tr>\n",
       "      <th>Fat supply quantity (g/capita/day)</th>\n",
       "      <td>10225.56</td>\n",
       "    </tr>\n",
       "    <tr>\n",
       "      <th>Feed</th>\n",
       "      <td>216927.89</td>\n",
       "    </tr>\n",
       "    <tr>\n",
       "      <th>Food</th>\n",
       "      <td>1212332.49</td>\n",
       "    </tr>\n",
       "    <tr>\n",
       "      <th>Food supply (kcal/capita/day)</th>\n",
       "      <td>454257.00</td>\n",
       "    </tr>\n",
       "    <tr>\n",
       "      <th>Food supply quantity (kg/capita/yr)</th>\n",
       "      <td>49650.63</td>\n",
       "    </tr>\n",
       "    <tr>\n",
       "      <th>Import Quantity</th>\n",
       "      <td>274144.48</td>\n",
       "    </tr>\n",
       "    <tr>\n",
       "      <th>Losses</th>\n",
       "      <td>153223.00</td>\n",
       "    </tr>\n",
       "    <tr>\n",
       "      <th>Other uses (non-food)</th>\n",
       "      <td>78718.13</td>\n",
       "    </tr>\n",
       "    <tr>\n",
       "      <th>Processing</th>\n",
       "      <td>282923.00</td>\n",
       "    </tr>\n",
       "    <tr>\n",
       "      <th>Production</th>\n",
       "      <td>1931287.75</td>\n",
       "    </tr>\n",
       "    <tr>\n",
       "      <th>Protein supply quantity (g/capita/day)</th>\n",
       "      <td>11836.46</td>\n",
       "    </tr>\n",
       "    <tr>\n",
       "      <th>Residuals</th>\n",
       "      <td>30149.00</td>\n",
       "    </tr>\n",
       "    <tr>\n",
       "      <th>Seed</th>\n",
       "      <td>21922.92</td>\n",
       "    </tr>\n",
       "    <tr>\n",
       "      <th>Stock Variation</th>\n",
       "      <td>58749.83</td>\n",
       "    </tr>\n",
       "    <tr>\n",
       "      <th>Total Population - Both sexes</th>\n",
       "      <td>1031585.00</td>\n",
       "    </tr>\n",
       "    <tr>\n",
       "      <th>Tourist consumption</th>\n",
       "      <td>416.00</td>\n",
       "    </tr>\n",
       "  </tbody>\n",
       "</table>\n",
       "</div>"
      ],
      "text/plain": [
       "                                             Y2014\n",
       "Element                                           \n",
       "Domestic supply quantity                1996716.35\n",
       "Export Quantity                          150020.64\n",
       "Fat supply quantity (g/capita/day)        10225.56\n",
       "Feed                                     216927.89\n",
       "Food                                    1212332.49\n",
       "Food supply (kcal/capita/day)            454257.00\n",
       "Food supply quantity (kg/capita/yr)       49650.63\n",
       "Import Quantity                          274144.48\n",
       "Losses                                   153223.00\n",
       "Other uses (non-food)                     78718.13\n",
       "Processing                               282923.00\n",
       "Production                              1931287.75\n",
       "Protein supply quantity (g/capita/day)    11836.46\n",
       "Residuals                                 30149.00\n",
       "Seed                                      21922.92\n",
       "Stock Variation                           58749.83\n",
       "Total Population - Both sexes           1031585.00\n",
       "Tourist consumption                         416.00"
      ]
     },
     "execution_count": 12,
     "metadata": {},
     "output_type": "execute_result"
    }
   ],
   "source": [
    "df.groupby(['Element'])[['Y2014']].sum()"
   ]
  },
  {
   "cell_type": "markdown",
   "id": "94e58685",
   "metadata": {},
   "source": [
    "**The sum of Production in the year 2014 is '1931287.75'**"
   ]
  },
  {
   "cell_type": "markdown",
   "id": "30050e23",
   "metadata": {},
   "source": [
    "**Q17 Which of these elements had the highest sum in 2018?**"
   ]
  },
  {
   "cell_type": "code",
   "execution_count": 13,
   "id": "0abeba22",
   "metadata": {},
   "outputs": [
    {
     "data": {
      "text/html": [
       "<div>\n",
       "<style scoped>\n",
       "    .dataframe tbody tr th:only-of-type {\n",
       "        vertical-align: middle;\n",
       "    }\n",
       "\n",
       "    .dataframe tbody tr th {\n",
       "        vertical-align: top;\n",
       "    }\n",
       "\n",
       "    .dataframe thead th {\n",
       "        text-align: right;\n",
       "    }\n",
       "</style>\n",
       "<table border=\"1\" class=\"dataframe\">\n",
       "  <thead>\n",
       "    <tr style=\"text-align: right;\">\n",
       "      <th></th>\n",
       "      <th>Y2018</th>\n",
       "      <th>Element</th>\n",
       "    </tr>\n",
       "  </thead>\n",
       "  <tbody>\n",
       "    <tr>\n",
       "      <th>4590</th>\n",
       "      <td>195875.0</td>\n",
       "      <td>Total Population - Both sexes</td>\n",
       "    </tr>\n",
       "    <tr>\n",
       "      <th>4589</th>\n",
       "      <td>118172.0</td>\n",
       "      <td>Production</td>\n",
       "    </tr>\n",
       "    <tr>\n",
       "      <th>4588</th>\n",
       "      <td>117038.0</td>\n",
       "      <td>Domestic supply quantity</td>\n",
       "    </tr>\n",
       "    <tr>\n",
       "      <th>4587</th>\n",
       "      <td>109224.0</td>\n",
       "      <td>Total Population - Both sexes</td>\n",
       "    </tr>\n",
       "    <tr>\n",
       "      <th>4586</th>\n",
       "      <td>98424.0</td>\n",
       "      <td>Total Population - Both sexes</td>\n",
       "    </tr>\n",
       "    <tr>\n",
       "      <th>...</th>\n",
       "      <td>...</td>\n",
       "      <td>...</td>\n",
       "    </tr>\n",
       "    <tr>\n",
       "      <th>4</th>\n",
       "      <td>-1442.0</td>\n",
       "      <td>Stock Variation</td>\n",
       "    </tr>\n",
       "    <tr>\n",
       "      <th>3</th>\n",
       "      <td>-1445.0</td>\n",
       "      <td>Stock Variation</td>\n",
       "    </tr>\n",
       "    <tr>\n",
       "      <th>2</th>\n",
       "      <td>-2156.0</td>\n",
       "      <td>Stock VariationStock Variation</td>\n",
       "    </tr>\n",
       "    <tr>\n",
       "      <th>1</th>\n",
       "      <td>-2450.0</td>\n",
       "      <td>Stock Variation</td>\n",
       "    </tr>\n",
       "    <tr>\n",
       "      <th>0</th>\n",
       "      <td>-3396.0</td>\n",
       "      <td>Stock Variation</td>\n",
       "    </tr>\n",
       "  </tbody>\n",
       "</table>\n",
       "<p>4591 rows × 2 columns</p>\n",
       "</div>"
      ],
      "text/plain": [
       "         Y2018                         Element\n",
       "4590  195875.0   Total Population - Both sexes\n",
       "4589  118172.0                      Production\n",
       "4588  117038.0        Domestic supply quantity\n",
       "4587  109224.0   Total Population - Both sexes\n",
       "4586   98424.0   Total Population - Both sexes\n",
       "...        ...                             ...\n",
       "4      -1442.0                 Stock Variation\n",
       "3      -1445.0                 Stock Variation\n",
       "2      -2156.0  Stock VariationStock Variation\n",
       "1      -2450.0                 Stock Variation\n",
       "0      -3396.0                 Stock Variation\n",
       "\n",
       "[4591 rows x 2 columns]"
      ]
     },
     "execution_count": 13,
     "metadata": {},
     "output_type": "execute_result"
    }
   ],
   "source": [
    "d=df.groupby(['Y2018'], sort=True)[['Element']].sum().reset_index().sort_values(by=['Y2018'], ascending=[False])\n",
    "d"
   ]
  },
  {
   "cell_type": "markdown",
   "id": "5cc9ac73",
   "metadata": {},
   "source": [
    "**The Element with the highest sum is 'Total Population-Both sexes' iwth a value of 195875.0**"
   ]
  },
  {
   "cell_type": "markdown",
   "id": "a0e16cd3",
   "metadata": {},
   "source": [
    "**Q18Which of these elements had the 3rd lowest sum in 2018?\n",
    "Hint-  Select columns ‘Y2018’ and ‘Element’, Perform a groupby operation on ‘Element’ on the selected dataframe and answer the  question.**  "
   ]
  },
  {
   "cell_type": "code",
   "execution_count": 14,
   "id": "965d6c61",
   "metadata": {},
   "outputs": [
    {
     "data": {
      "text/html": [
       "<div>\n",
       "<style scoped>\n",
       "    .dataframe tbody tr th:only-of-type {\n",
       "        vertical-align: middle;\n",
       "    }\n",
       "\n",
       "    .dataframe tbody tr th {\n",
       "        vertical-align: top;\n",
       "    }\n",
       "\n",
       "    .dataframe thead th {\n",
       "        text-align: right;\n",
       "    }\n",
       "</style>\n",
       "<table border=\"1\" class=\"dataframe\">\n",
       "  <thead>\n",
       "    <tr style=\"text-align: right;\">\n",
       "      <th></th>\n",
       "      <th>Y2018</th>\n",
       "      <th>Element</th>\n",
       "    </tr>\n",
       "  </thead>\n",
       "  <tbody>\n",
       "    <tr>\n",
       "      <th>0</th>\n",
       "      <td>-3396.0</td>\n",
       "      <td>Stock Variation</td>\n",
       "    </tr>\n",
       "    <tr>\n",
       "      <th>1</th>\n",
       "      <td>-2450.0</td>\n",
       "      <td>Stock Variation</td>\n",
       "    </tr>\n",
       "    <tr>\n",
       "      <th>2</th>\n",
       "      <td>-2156.0</td>\n",
       "      <td>Stock VariationStock Variation</td>\n",
       "    </tr>\n",
       "    <tr>\n",
       "      <th>3</th>\n",
       "      <td>-1445.0</td>\n",
       "      <td>Stock Variation</td>\n",
       "    </tr>\n",
       "    <tr>\n",
       "      <th>4</th>\n",
       "      <td>-1442.0</td>\n",
       "      <td>Stock Variation</td>\n",
       "    </tr>\n",
       "    <tr>\n",
       "      <th>...</th>\n",
       "      <td>...</td>\n",
       "      <td>...</td>\n",
       "    </tr>\n",
       "    <tr>\n",
       "      <th>4586</th>\n",
       "      <td>98424.0</td>\n",
       "      <td>Total Population - Both sexes</td>\n",
       "    </tr>\n",
       "    <tr>\n",
       "      <th>4587</th>\n",
       "      <td>109224.0</td>\n",
       "      <td>Total Population - Both sexes</td>\n",
       "    </tr>\n",
       "    <tr>\n",
       "      <th>4588</th>\n",
       "      <td>117038.0</td>\n",
       "      <td>Domestic supply quantity</td>\n",
       "    </tr>\n",
       "    <tr>\n",
       "      <th>4589</th>\n",
       "      <td>118172.0</td>\n",
       "      <td>Production</td>\n",
       "    </tr>\n",
       "    <tr>\n",
       "      <th>4590</th>\n",
       "      <td>195875.0</td>\n",
       "      <td>Total Population - Both sexes</td>\n",
       "    </tr>\n",
       "  </tbody>\n",
       "</table>\n",
       "<p>4591 rows × 2 columns</p>\n",
       "</div>"
      ],
      "text/plain": [
       "         Y2018                         Element\n",
       "0      -3396.0                 Stock Variation\n",
       "1      -2450.0                 Stock Variation\n",
       "2      -2156.0  Stock VariationStock Variation\n",
       "3      -1445.0                 Stock Variation\n",
       "4      -1442.0                 Stock Variation\n",
       "...        ...                             ...\n",
       "4586   98424.0   Total Population - Both sexes\n",
       "4587  109224.0   Total Population - Both sexes\n",
       "4588  117038.0        Domestic supply quantity\n",
       "4589  118172.0                      Production\n",
       "4590  195875.0   Total Population - Both sexes\n",
       "\n",
       "[4591 rows x 2 columns]"
      ]
     },
     "execution_count": 14,
     "metadata": {},
     "output_type": "execute_result"
    }
   ],
   "source": [
    "e=df.groupby(['Y2018'], sort=True)['Element'].sum().reset_index().sort_values(by=['Y2018'], ascending=[True])\n",
    "e"
   ]
  },
  {
   "cell_type": "markdown",
   "id": "0b9bc381",
   "metadata": {},
   "source": [
    "**The Element with the 3rd Lowest sum in 2018 is 'Stock VariationStock Variation' which is -2156.0**\n",
    "\n"
   ]
  },
  {
   "cell_type": "markdown",
   "id": "79d306c6",
   "metadata": {},
   "source": [
    "**Q19 What is the total Import Quantity in Algeria in 2018?**"
   ]
  },
  {
   "cell_type": "code",
   "execution_count": 15,
   "id": "153b522a",
   "metadata": {
    "scrolled": true
   },
   "outputs": [
    {
     "data": {
      "text/html": [
       "<div>\n",
       "<style scoped>\n",
       "    .dataframe tbody tr th:only-of-type {\n",
       "        vertical-align: middle;\n",
       "    }\n",
       "\n",
       "    .dataframe tbody tr th {\n",
       "        vertical-align: top;\n",
       "    }\n",
       "\n",
       "    .dataframe thead th {\n",
       "        text-align: right;\n",
       "    }\n",
       "</style>\n",
       "<table border=\"1\" class=\"dataframe\">\n",
       "  <thead>\n",
       "    <tr style=\"text-align: right;\">\n",
       "      <th></th>\n",
       "      <th>Y2018</th>\n",
       "      <th>Area</th>\n",
       "      <th>Element</th>\n",
       "    </tr>\n",
       "  </thead>\n",
       "  <tbody>\n",
       "    <tr>\n",
       "      <th>3978</th>\n",
       "      <td>2.14</td>\n",
       "      <td>Algeria</td>\n",
       "      <td>Production</td>\n",
       "    </tr>\n",
       "    <tr>\n",
       "      <th>3174</th>\n",
       "      <td>1.14</td>\n",
       "      <td>Algeria</td>\n",
       "      <td>Production</td>\n",
       "    </tr>\n",
       "    <tr>\n",
       "      <th>11588</th>\n",
       "      <td>218.31</td>\n",
       "      <td>Algeria</td>\n",
       "      <td>Food supply quantity (kg/capita/yr)</td>\n",
       "    </tr>\n",
       "    <tr>\n",
       "      <th>14178</th>\n",
       "      <td>2322.00</td>\n",
       "      <td>Algeria</td>\n",
       "      <td>Import Quantity</td>\n",
       "    </tr>\n",
       "    <tr>\n",
       "      <th>4987</th>\n",
       "      <td>4.63</td>\n",
       "      <td>Algeria</td>\n",
       "      <td>Food supply quantity (kg/capita/yr)</td>\n",
       "    </tr>\n",
       "    <tr>\n",
       "      <th>...</th>\n",
       "      <td>...</td>\n",
       "      <td>...</td>\n",
       "      <td>...</td>\n",
       "    </tr>\n",
       "    <tr>\n",
       "      <th>2214</th>\n",
       "      <td>0.51</td>\n",
       "      <td>Zimbabwe</td>\n",
       "      <td>Protein supply quantity (g/capita/day)</td>\n",
       "    </tr>\n",
       "    <tr>\n",
       "      <th>10148</th>\n",
       "      <td>100.00</td>\n",
       "      <td>Zimbabwe</td>\n",
       "      <td>Import QuantityProduction</td>\n",
       "    </tr>\n",
       "    <tr>\n",
       "      <th>2189</th>\n",
       "      <td>0.50</td>\n",
       "      <td>Zimbabwe</td>\n",
       "      <td>Protein supply quantity (g/capita/day)</td>\n",
       "    </tr>\n",
       "    <tr>\n",
       "      <th>7276</th>\n",
       "      <td>22.00</td>\n",
       "      <td>Zimbabwe</td>\n",
       "      <td>FoodLossesProductionDomestic supply quantityPr...</td>\n",
       "    </tr>\n",
       "    <tr>\n",
       "      <th>3935</th>\n",
       "      <td>2.05</td>\n",
       "      <td>Zimbabwe</td>\n",
       "      <td>Food supply quantity (kg/capita/yr)</td>\n",
       "    </tr>\n",
       "  </tbody>\n",
       "</table>\n",
       "<p>14853 rows × 3 columns</p>\n",
       "</div>"
      ],
      "text/plain": [
       "         Y2018      Area                                            Element\n",
       "3978      2.14   Algeria                                         Production\n",
       "3174      1.14   Algeria                                         Production\n",
       "11588   218.31   Algeria                Food supply quantity (kg/capita/yr)\n",
       "14178  2322.00   Algeria                                    Import Quantity\n",
       "4987      4.63   Algeria                Food supply quantity (kg/capita/yr)\n",
       "...        ...       ...                                                ...\n",
       "2214      0.51  Zimbabwe             Protein supply quantity (g/capita/day)\n",
       "10148   100.00  Zimbabwe                          Import QuantityProduction\n",
       "2189      0.50  Zimbabwe             Protein supply quantity (g/capita/day)\n",
       "7276     22.00  Zimbabwe  FoodLossesProductionDomestic supply quantityPr...\n",
       "3935      2.05  Zimbabwe                Food supply quantity (kg/capita/yr)\n",
       "\n",
       "[14853 rows x 3 columns]"
      ]
     },
     "execution_count": 15,
     "metadata": {},
     "output_type": "execute_result"
    }
   ],
   "source": [
    "\n",
    "import_Algeria=df.groupby(['Y2018','Area'], sort=True)[['Element']].sum().reset_index().sort_values(by=['Area'], ascending=[True])\n",
    "import_Algeria"
   ]
  },
  {
   "cell_type": "markdown",
   "id": "792fea42",
   "metadata": {},
   "source": [
    "**The Total Import Quantity in Algeria in Year 2018 is '2322.00'**"
   ]
  },
  {
   "cell_type": "markdown",
   "id": "00cac971",
   "metadata": {},
   "source": [
    "**Q20 What is the total number of unique countries in the dataset?**"
   ]
  },
  {
   "cell_type": "code",
   "execution_count": 16,
   "id": "2d555250",
   "metadata": {
    "scrolled": true
   },
   "outputs": [
    {
     "data": {
      "text/plain": [
       "49"
      ]
     },
     "execution_count": 16,
     "metadata": {},
     "output_type": "execute_result"
    }
   ],
   "source": [
    "len(df['Area'].unique())"
   ]
  },
  {
   "cell_type": "markdown",
   "id": "4af2866d",
   "metadata": {},
   "source": [
    "**The Total Number of unique countries in the dataset is '49'**"
   ]
  },
  {
   "cell_type": "markdown",
   "id": "df1c57a8",
   "metadata": {},
   "source": [
    "**some of the references include**"
   ]
  },
  {
   "cell_type": "markdown",
   "id": "c59a9d94",
   "metadata": {},
   "source": [
    "**https://stackoverflow.com/questions/43066374/how-to-find-out-number-of-unique-values-in-a-column-along-with-count-of-the-uniq\n",
    "https://www.datasciencemadesimple.com/mean-variance-and-standard-deviation-of-column-in-pyspark/\n",
    "https://sparkbyexamples.com/pandas/pandas-groupby-sort-within-groups/#:~:text=2.-,Sort%20within%20Groups%20of%20groupby()%20Result%20in%20DataFrame,of%20rows%20within%20each%20group.\n",
    "https://stackoverflow.com/questions/44742945/i-applied-sum-on-a-groupby-and-i-want-to-sort-the-values-of-the-last-column\n",
    "https://stackoverflow.com/questions/51070985/find-out-the-percentage-of-missing-values-in-each-column-in-the-given-dataset**    "
   ]
  },
  {
   "cell_type": "code",
   "execution_count": null,
   "id": "c4f37f6f",
   "metadata": {},
   "outputs": [],
   "source": []
  }
 ],
 "metadata": {
  "kernelspec": {
   "display_name": "Python 3 (ipykernel)",
   "language": "python",
   "name": "python3"
  },
  "language_info": {
   "codemirror_mode": {
    "name": "ipython",
    "version": 3
   },
   "file_extension": ".py",
   "mimetype": "text/x-python",
   "name": "python",
   "nbconvert_exporter": "python",
   "pygments_lexer": "ipython3",
   "version": "3.9.12"
  }
 },
 "nbformat": 4,
 "nbformat_minor": 5
}
